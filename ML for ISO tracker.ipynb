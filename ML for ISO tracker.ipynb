{
 "cells": [
  {
   "cell_type": "markdown",
   "id": "4238e3d3-8775-4bd8-966e-5de4674d457b",
   "metadata": {},
   "source": [
    "## **Predictive ML Project:3I/ATLAS(Interstellar Object)**"
   ]
  },
  {
   "cell_type": "markdown",
   "id": "178ce30c-5eb5-44d9-9fcb-1bab6032209e",
   "metadata": {},
   "source": [
    "#### **Step 0 Import Libraries**"
   ]
  },
  {
   "cell_type": "code",
   "execution_count": 21,
   "id": "0ff27156-c7e5-4386-aa14-54246f503038",
   "metadata": {},
   "outputs": [],
   "source": [
    "import pandas as pd\n",
    "import numpy as py\n",
    "import matplotlib.pyplot as plt\n",
    "import seaborn as sns\n",
    "import matplotlib.dates as mdates\n",
    "from statsmodels.tsa.arima.model import ARIMA\n",
    "from astroquery.jplhorizons import Horizons"
   ]
  },
  {
   "cell_type": "markdown",
   "id": "c82c1b23-184c-4b7c-a4de-f2dbe7a8b342",
   "metadata": {},
   "source": [
    "## **Project Introduction**"
   ]
  },
  {
   "cell_type": "markdown",
   "id": "6e331cc1-94b7-42c8-9db6-a101043a6f74",
   "metadata": {},
   "source": [
    "##### Predicting the Motion of 3I/ATLAS\n",
    "-**Objective**: Predict future distance & velocity of interstellar object 3I/ATLAS\n",
    "-**Dataset Source**: NASA JPL Horizons\n",
    "-**Approach**: Time-series forecasting & regression modeling\n",
    "-I will do:\n",
    "1. Collect ephemeris data (2019-2025).\n",
    "2. Perform EDA(distance/velocity trends).\n",
    "3. Train ML models(ARIMA, Prophet, Random Forest).\n",
    "4. Comapre predictions vs actual "
   ]
  },
  {
   "cell_type": "markdown",
   "id": "fe032c76-dff1-4129-a497-777177cdbad1",
   "metadata": {},
   "source": [
    "## **2.Data Collection**"
   ]
  },
  {
   "cell_type": "code",
   "execution_count": 4,
   "id": "b595401d-6d96-4101-b569-8fed61a04256",
   "metadata": {},
   "outputs": [
    {
     "data": {
      "text/html": [
       "<div>\n",
       "<style scoped>\n",
       "    .dataframe tbody tr th:only-of-type {\n",
       "        vertical-align: middle;\n",
       "    }\n",
       "\n",
       "    .dataframe tbody tr th {\n",
       "        vertical-align: top;\n",
       "    }\n",
       "\n",
       "    .dataframe thead th {\n",
       "        text-align: right;\n",
       "    }\n",
       "</style>\n",
       "<table border=\"1\" class=\"dataframe\">\n",
       "  <thead>\n",
       "    <tr style=\"text-align: right;\">\n",
       "      <th></th>\n",
       "      <th>targetname</th>\n",
       "      <th>datetime_str</th>\n",
       "      <th>datetime_jd</th>\n",
       "      <th>M1</th>\n",
       "      <th>M2</th>\n",
       "      <th>k1</th>\n",
       "      <th>k2</th>\n",
       "      <th>phasecoeff</th>\n",
       "      <th>solar_presence</th>\n",
       "      <th>interfering_body</th>\n",
       "      <th>...</th>\n",
       "      <th>r_3sigma</th>\n",
       "      <th>r_rate_3sigma</th>\n",
       "      <th>SBand_3sigma</th>\n",
       "      <th>XBand_3sigma</th>\n",
       "      <th>DoppDelay_3sigma</th>\n",
       "      <th>true_anom</th>\n",
       "      <th>hour_angle</th>\n",
       "      <th>alpha_true</th>\n",
       "      <th>PABLon</th>\n",
       "      <th>PABLat</th>\n",
       "    </tr>\n",
       "  </thead>\n",
       "  <tbody>\n",
       "    <tr>\n",
       "      <th>0</th>\n",
       "      <td>Palomar (C/2019 J2)</td>\n",
       "      <td>2019-Jan-01 00:00</td>\n",
       "      <td>2458484.5</td>\n",
       "      <td>9.4</td>\n",
       "      <td>17.4</td>\n",
       "      <td>22.5</td>\n",
       "      <td>5.0</td>\n",
       "      <td>0.03</td>\n",
       "      <td></td>\n",
       "      <td></td>\n",
       "      <td>...</td>\n",
       "      <td>125280.8630</td>\n",
       "      <td>0.010138</td>\n",
       "      <td>145.02</td>\n",
       "      <td>527.07</td>\n",
       "      <td>0.835784</td>\n",
       "      <td>278.6682</td>\n",
       "      <td>&lt;NA&gt;</td>\n",
       "      <td>0.1370</td>\n",
       "      <td>20.8750</td>\n",
       "      <td>16.7316</td>\n",
       "    </tr>\n",
       "    <tr>\n",
       "      <th>1</th>\n",
       "      <td>Palomar (C/2019 J2)</td>\n",
       "      <td>2019-Jan-31 00:00</td>\n",
       "      <td>2458514.5</td>\n",
       "      <td>9.4</td>\n",
       "      <td>17.4</td>\n",
       "      <td>22.5</td>\n",
       "      <td>5.0</td>\n",
       "      <td>0.03</td>\n",
       "      <td></td>\n",
       "      <td></td>\n",
       "      <td>...</td>\n",
       "      <td>102047.8280</td>\n",
       "      <td>0.009234</td>\n",
       "      <td>139.38</td>\n",
       "      <td>506.56</td>\n",
       "      <td>0.680790</td>\n",
       "      <td>285.3827</td>\n",
       "      <td>&lt;NA&gt;</td>\n",
       "      <td>0.1546</td>\n",
       "      <td>18.8998</td>\n",
       "      <td>23.1812</td>\n",
       "    </tr>\n",
       "    <tr>\n",
       "      <th>2</th>\n",
       "      <td>Palomar (C/2019 J2)</td>\n",
       "      <td>2019-Mar-02 00:00</td>\n",
       "      <td>2458544.5</td>\n",
       "      <td>9.4</td>\n",
       "      <td>17.4</td>\n",
       "      <td>22.5</td>\n",
       "      <td>5.0</td>\n",
       "      <td>0.03</td>\n",
       "      <td></td>\n",
       "      <td></td>\n",
       "      <td>...</td>\n",
       "      <td>79894.8818</td>\n",
       "      <td>0.008115</td>\n",
       "      <td>131.52</td>\n",
       "      <td>478.01</td>\n",
       "      <td>0.533001</td>\n",
       "      <td>293.5502</td>\n",
       "      <td>&lt;NA&gt;</td>\n",
       "      <td>0.1748</td>\n",
       "      <td>16.2192</td>\n",
       "      <td>30.9899</td>\n",
       "    </tr>\n",
       "    <tr>\n",
       "      <th>3</th>\n",
       "      <td>Palomar (C/2019 J2)</td>\n",
       "      <td>2019-Apr-01 00:00</td>\n",
       "      <td>2458574.5</td>\n",
       "      <td>9.4</td>\n",
       "      <td>17.4</td>\n",
       "      <td>22.5</td>\n",
       "      <td>5.0</td>\n",
       "      <td>0.03</td>\n",
       "      <td></td>\n",
       "      <td></td>\n",
       "      <td>...</td>\n",
       "      <td>59347.6888</td>\n",
       "      <td>0.006717</td>\n",
       "      <td>119.21</td>\n",
       "      <td>433.27</td>\n",
       "      <td>0.395925</td>\n",
       "      <td>303.5807</td>\n",
       "      <td>&lt;NA&gt;</td>\n",
       "      <td>0.1971</td>\n",
       "      <td>12.2465</td>\n",
       "      <td>40.4887</td>\n",
       "    </tr>\n",
       "    <tr>\n",
       "      <th>4</th>\n",
       "      <td>Palomar (C/2019 J2)</td>\n",
       "      <td>2019-May-01 00:00</td>\n",
       "      <td>2458604.5</td>\n",
       "      <td>9.4</td>\n",
       "      <td>17.4</td>\n",
       "      <td>22.5</td>\n",
       "      <td>5.0</td>\n",
       "      <td>0.03</td>\n",
       "      <td></td>\n",
       "      <td></td>\n",
       "      <td>...</td>\n",
       "      <td>41436.9105</td>\n",
       "      <td>0.004977</td>\n",
       "      <td>98.50</td>\n",
       "      <td>357.99</td>\n",
       "      <td>0.276437</td>\n",
       "      <td>315.9085</td>\n",
       "      <td>&lt;NA&gt;</td>\n",
       "      <td>0.2197</td>\n",
       "      <td>5.4723</td>\n",
       "      <td>51.9038</td>\n",
       "    </tr>\n",
       "  </tbody>\n",
       "</table>\n",
       "<p>5 rows × 86 columns</p>\n",
       "</div>"
      ],
      "text/plain": [
       "            targetname       datetime_str  datetime_jd   M1    M2    k1   k2  \\\n",
       "0  Palomar (C/2019 J2)  2019-Jan-01 00:00    2458484.5  9.4  17.4  22.5  5.0   \n",
       "1  Palomar (C/2019 J2)  2019-Jan-31 00:00    2458514.5  9.4  17.4  22.5  5.0   \n",
       "2  Palomar (C/2019 J2)  2019-Mar-02 00:00    2458544.5  9.4  17.4  22.5  5.0   \n",
       "3  Palomar (C/2019 J2)  2019-Apr-01 00:00    2458574.5  9.4  17.4  22.5  5.0   \n",
       "4  Palomar (C/2019 J2)  2019-May-01 00:00    2458604.5  9.4  17.4  22.5  5.0   \n",
       "\n",
       "   phasecoeff solar_presence interfering_body  ...     r_3sigma  \\\n",
       "0        0.03                                  ...  125280.8630   \n",
       "1        0.03                                  ...  102047.8280   \n",
       "2        0.03                                  ...   79894.8818   \n",
       "3        0.03                                  ...   59347.6888   \n",
       "4        0.03                                  ...   41436.9105   \n",
       "\n",
       "   r_rate_3sigma  SBand_3sigma  XBand_3sigma  DoppDelay_3sigma  true_anom  \\\n",
       "0       0.010138        145.02        527.07          0.835784   278.6682   \n",
       "1       0.009234        139.38        506.56          0.680790   285.3827   \n",
       "2       0.008115        131.52        478.01          0.533001   293.5502   \n",
       "3       0.006717        119.21        433.27          0.395925   303.5807   \n",
       "4       0.004977         98.50        357.99          0.276437   315.9085   \n",
       "\n",
       "   hour_angle  alpha_true   PABLon   PABLat  \n",
       "0        <NA>      0.1370  20.8750  16.7316  \n",
       "1        <NA>      0.1546  18.8998  23.1812  \n",
       "2        <NA>      0.1748  16.2192  30.9899  \n",
       "3        <NA>      0.1971  12.2465  40.4887  \n",
       "4        <NA>      0.2197   5.4723  51.9038  \n",
       "\n",
       "[5 rows x 86 columns]"
      ]
     },
     "execution_count": 4,
     "metadata": {},
     "output_type": "execute_result"
    }
   ],
   "source": [
    "obj = Horizons(id='A/2019 J2', location = '500@0',\n",
    "         epochs={'start':'2019-01-01',\n",
    "                 'stop':'2025-01-01',\n",
    "                 'step':'30d'})\n",
    "\n",
    "eph = obj.ephemerides()\n",
    "\n",
    "df = eph.to_pandas()\n",
    "df.head()"
   ]
  },
  {
   "cell_type": "markdown",
   "id": "1e5ff4fc-feef-4e9d-a567-6759374ec7ad",
   "metadata": {},
   "source": [
    "## **3.Data Cleaning & Preparation**"
   ]
  },
  {
   "cell_type": "code",
   "execution_count": 25,
   "id": "71c01352-921a-4570-8334-2b522b558ed1",
   "metadata": {},
   "outputs": [
    {
     "name": "stdout",
     "output_type": "stream",
     "text": [
      "              heliocentric_dist  geocentric_dist  magnitude\n",
      "datetime_str                                               \n",
      "2019-01-01             2.999213         3.001055        9.4\n",
      "2019-01-31             2.728128         2.729472        9.4\n",
      "2019-03-02             2.466763         2.467524        9.4\n",
      "2019-04-01             2.223208         2.223301        9.4\n",
      "2019-05-01             2.009836         2.009193        9.4\n"
     ]
    }
   ],
   "source": [
    "possible_mag_cols=['V','M1','Tmag','Nmag']\n",
    "mag_col = None\n",
    "for col in possible_mag_cols:\n",
    "    if col in df.columns:\n",
    "        mag_col = col\n",
    "        break\n",
    "if mag_col is None:\n",
    "    raise ValueError(\"No magnitude column found in dataframe!\") \n",
    "\n",
    "data = df[['datetime_str','r','delta',mag_col]].copy()\n",
    "data.rename(columns={'r':'heliocentric_dist',\n",
    "            'delta':'geocentric_dist',\n",
    "               mag_col : 'magnitude'},inplace=True)\n",
    "\n",
    "data['datetime_str'] = pd.to_datetime(data['datetime_str'])\n",
    "\n",
    "data.set_index('datetime_str',inplace=True)\n",
    "\n",
    "print(data.head())           "
   ]
  },
  {
   "cell_type": "markdown",
   "id": "181f2247-e1d3-4f12-bae1-97cef5505ea6",
   "metadata": {},
   "source": [
    "## **4.Exploratory Data Analysis (EDA)**"
   ]
  },
  {
   "cell_type": "code",
   "execution_count": 32,
   "id": "922e4c6f-e21e-4b29-8327-cf1d4debd2a9",
   "metadata": {},
   "outputs": [
    {
     "name": "stdout",
     "output_type": "stream",
     "text": [
      "Index(['targetname', 'datetime_jd', 'datetime_str', 'M1', 'M2', 'k1', 'k2',\n",
      "       'phasecoeff', 'x', 'y', 'z', 'vx', 'vy', 'vz', 'lighttime', 'range',\n",
      "       'range_rate'],\n",
      "      dtype='object')\n"
     ]
    }
   ],
   "source": [
    "vectors = obj.vectors().to_pandas()\n",
    "print(vectors.columns)\n"
   ]
  },
  {
   "cell_type": "code",
   "execution_count": 29,
   "id": "d83d6823-20d2-4a3d-a8e8-506a9729e7e3",
   "metadata": {},
   "outputs": [
    {
     "name": "stdout",
     "output_type": "stream",
     "text": [
      "Index(['heliocentric_dist', 'geocentric_dist', 'magnitude'], dtype='object')\n",
      "Column 'delta_rate' not found in ephemeris.\n"
     ]
    }
   ],
   "source": [
    "# Check available columns\n",
    "print(data.columns)\n",
    "\n",
    "# Plot radial velocity relative to Earth\n",
    "if 'delta_rate' in data.columns:\n",
    "    plt.figure(figsize=(12,6))\n",
    "    plt.plot(data.index, data['delta_rate'], color='orange')\n",
    "    plt.xlabel(\"Date\")\n",
    "    plt.ylabel(\"Radial Velocity relative to Earth (km/s)\")\n",
    "    plt.title(\"3I/ATLAS Radial Velocity Over Time\")\n",
    "    plt.show()\n",
    "else:\n",
    "    print(\"Column 'delta_rate' not found in ephemeris.\")\n"
   ]
  },
  {
   "cell_type": "code",
   "execution_count": 36,
   "id": "746412de-3d4c-4539-9e4a-2a47d5cee316",
   "metadata": {},
   "outputs": [
    {
     "ename": "KeyError",
     "evalue": "'VX'",
     "output_type": "error",
     "traceback": [
      "\u001b[1;31m---------------------------------------------------------------------------\u001b[0m",
      "\u001b[1;31mKeyError\u001b[0m                                  Traceback (most recent call last)",
      "File \u001b[1;32mD:\\Anaconda\\Lib\\site-packages\\pandas\\core\\indexes\\base.py:3805\u001b[0m, in \u001b[0;36mIndex.get_loc\u001b[1;34m(self, key)\u001b[0m\n\u001b[0;32m   3804\u001b[0m \u001b[38;5;28;01mtry\u001b[39;00m:\n\u001b[1;32m-> 3805\u001b[0m     \u001b[38;5;28;01mreturn\u001b[39;00m \u001b[38;5;28mself\u001b[39m\u001b[38;5;241m.\u001b[39m_engine\u001b[38;5;241m.\u001b[39mget_loc(casted_key)\n\u001b[0;32m   3806\u001b[0m \u001b[38;5;28;01mexcept\u001b[39;00m \u001b[38;5;167;01mKeyError\u001b[39;00m \u001b[38;5;28;01mas\u001b[39;00m err:\n",
      "File \u001b[1;32mindex.pyx:167\u001b[0m, in \u001b[0;36mpandas._libs.index.IndexEngine.get_loc\u001b[1;34m()\u001b[0m\n",
      "File \u001b[1;32mindex.pyx:196\u001b[0m, in \u001b[0;36mpandas._libs.index.IndexEngine.get_loc\u001b[1;34m()\u001b[0m\n",
      "File \u001b[1;32mpandas\\\\_libs\\\\hashtable_class_helper.pxi:7081\u001b[0m, in \u001b[0;36mpandas._libs.hashtable.PyObjectHashTable.get_item\u001b[1;34m()\u001b[0m\n",
      "File \u001b[1;32mpandas\\\\_libs\\\\hashtable_class_helper.pxi:7089\u001b[0m, in \u001b[0;36mpandas._libs.hashtable.PyObjectHashTable.get_item\u001b[1;34m()\u001b[0m\n",
      "\u001b[1;31mKeyError\u001b[0m: 'VX'",
      "\nThe above exception was the direct cause of the following exception:\n",
      "\u001b[1;31mKeyError\u001b[0m                                  Traceback (most recent call last)",
      "Cell \u001b[1;32mIn[36], line 8\u001b[0m\n\u001b[0;32m      5\u001b[0m vectors \u001b[38;5;241m=\u001b[39m obj\u001b[38;5;241m.\u001b[39mvectors()\u001b[38;5;241m.\u001b[39mto_pandas()\n\u001b[0;32m      7\u001b[0m \u001b[38;5;66;03m# Compute velocity magnitude (km/s)\u001b[39;00m\n\u001b[1;32m----> 8\u001b[0m vectors[\u001b[38;5;124m'\u001b[39m\u001b[38;5;124mvel_mag\u001b[39m\u001b[38;5;124m'\u001b[39m] \u001b[38;5;241m=\u001b[39m np\u001b[38;5;241m.\u001b[39msqrt(vectors[\u001b[38;5;124m'\u001b[39m\u001b[38;5;124mVX\u001b[39m\u001b[38;5;124m'\u001b[39m]\u001b[38;5;241m*\u001b[39m\u001b[38;5;241m*\u001b[39m\u001b[38;5;241m2\u001b[39m \u001b[38;5;241m+\u001b[39m vectors[\u001b[38;5;124m'\u001b[39m\u001b[38;5;124mVY\u001b[39m\u001b[38;5;124m'\u001b[39m]\u001b[38;5;241m*\u001b[39m\u001b[38;5;241m*\u001b[39m\u001b[38;5;241m2\u001b[39m \u001b[38;5;241m+\u001b[39m vectors[\u001b[38;5;124m'\u001b[39m\u001b[38;5;124mVZ\u001b[39m\u001b[38;5;124m'\u001b[39m]\u001b[38;5;241m*\u001b[39m\u001b[38;5;241m*\u001b[39m\u001b[38;5;241m2\u001b[39m)\n\u001b[0;32m     10\u001b[0m \u001b[38;5;66;03m# Convert datetime\u001b[39;00m\n\u001b[0;32m     11\u001b[0m vectors[\u001b[38;5;124m'\u001b[39m\u001b[38;5;124mdatetime\u001b[39m\u001b[38;5;124m'\u001b[39m] \u001b[38;5;241m=\u001b[39m pd\u001b[38;5;241m.\u001b[39mto_datetime(vectors[\u001b[38;5;124m'\u001b[39m\u001b[38;5;124mdatetime_jd\u001b[39m\u001b[38;5;124m'\u001b[39m], unit\u001b[38;5;241m=\u001b[39m\u001b[38;5;124m'\u001b[39m\u001b[38;5;124mD\u001b[39m\u001b[38;5;124m'\u001b[39m, origin\u001b[38;5;241m=\u001b[39m\u001b[38;5;124m'\u001b[39m\u001b[38;5;124mjulian\u001b[39m\u001b[38;5;124m'\u001b[39m)\n",
      "File \u001b[1;32mD:\\Anaconda\\Lib\\site-packages\\pandas\\core\\frame.py:4102\u001b[0m, in \u001b[0;36mDataFrame.__getitem__\u001b[1;34m(self, key)\u001b[0m\n\u001b[0;32m   4100\u001b[0m \u001b[38;5;28;01mif\u001b[39;00m \u001b[38;5;28mself\u001b[39m\u001b[38;5;241m.\u001b[39mcolumns\u001b[38;5;241m.\u001b[39mnlevels \u001b[38;5;241m>\u001b[39m \u001b[38;5;241m1\u001b[39m:\n\u001b[0;32m   4101\u001b[0m     \u001b[38;5;28;01mreturn\u001b[39;00m \u001b[38;5;28mself\u001b[39m\u001b[38;5;241m.\u001b[39m_getitem_multilevel(key)\n\u001b[1;32m-> 4102\u001b[0m indexer \u001b[38;5;241m=\u001b[39m \u001b[38;5;28mself\u001b[39m\u001b[38;5;241m.\u001b[39mcolumns\u001b[38;5;241m.\u001b[39mget_loc(key)\n\u001b[0;32m   4103\u001b[0m \u001b[38;5;28;01mif\u001b[39;00m is_integer(indexer):\n\u001b[0;32m   4104\u001b[0m     indexer \u001b[38;5;241m=\u001b[39m [indexer]\n",
      "File \u001b[1;32mD:\\Anaconda\\Lib\\site-packages\\pandas\\core\\indexes\\base.py:3812\u001b[0m, in \u001b[0;36mIndex.get_loc\u001b[1;34m(self, key)\u001b[0m\n\u001b[0;32m   3807\u001b[0m     \u001b[38;5;28;01mif\u001b[39;00m \u001b[38;5;28misinstance\u001b[39m(casted_key, \u001b[38;5;28mslice\u001b[39m) \u001b[38;5;129;01mor\u001b[39;00m (\n\u001b[0;32m   3808\u001b[0m         \u001b[38;5;28misinstance\u001b[39m(casted_key, abc\u001b[38;5;241m.\u001b[39mIterable)\n\u001b[0;32m   3809\u001b[0m         \u001b[38;5;129;01mand\u001b[39;00m \u001b[38;5;28many\u001b[39m(\u001b[38;5;28misinstance\u001b[39m(x, \u001b[38;5;28mslice\u001b[39m) \u001b[38;5;28;01mfor\u001b[39;00m x \u001b[38;5;129;01min\u001b[39;00m casted_key)\n\u001b[0;32m   3810\u001b[0m     ):\n\u001b[0;32m   3811\u001b[0m         \u001b[38;5;28;01mraise\u001b[39;00m InvalidIndexError(key)\n\u001b[1;32m-> 3812\u001b[0m     \u001b[38;5;28;01mraise\u001b[39;00m \u001b[38;5;167;01mKeyError\u001b[39;00m(key) \u001b[38;5;28;01mfrom\u001b[39;00m\u001b[38;5;250m \u001b[39m\u001b[38;5;21;01merr\u001b[39;00m\n\u001b[0;32m   3813\u001b[0m \u001b[38;5;28;01mexcept\u001b[39;00m \u001b[38;5;167;01mTypeError\u001b[39;00m:\n\u001b[0;32m   3814\u001b[0m     \u001b[38;5;66;03m# If we have a listlike key, _check_indexing_error will raise\u001b[39;00m\n\u001b[0;32m   3815\u001b[0m     \u001b[38;5;66;03m#  InvalidIndexError. Otherwise we fall through and re-raise\u001b[39;00m\n\u001b[0;32m   3816\u001b[0m     \u001b[38;5;66;03m#  the TypeError.\u001b[39;00m\n\u001b[0;32m   3817\u001b[0m     \u001b[38;5;28mself\u001b[39m\u001b[38;5;241m.\u001b[39m_check_indexing_error(key)\n",
      "\u001b[1;31mKeyError\u001b[0m: 'VX'"
     ]
    }
   ],
   "source": [
    "# Fetch vector data\n",
    "obj = Horizons(id='A/2019 J2', location='500@0', epochs={'start':'2019-09-01', \n",
    "                                                         'stop':'2025-01-01', \n",
    "                                                         'step':'10d'})\n",
    "vectors = obj.vectors().to_pandas()\n",
    "\n",
    "# Compute velocity magnitude (km/s)\n",
    "vectors['vel_mag'] = np.sqrt(vectors['VX']**2 + vectors['VY']**2 + vectors['VZ']**2)\n",
    "\n",
    "# Convert datetime\n",
    "vectors['datetime'] = pd.to_datetime(vectors['datetime_jd'], unit='D', origin='julian')\n",
    "\n",
    "# Plot 3D velocity magnitude\n",
    "plt.figure(figsize=(12,6))\n",
    "plt.plot(vectors['datetime'], vectors['vel_mag'], color='red')\n",
    "plt.xlabel(\"Date\")\n",
    "plt.ylabel(\"Velocity Magnitude (km/s)\")\n",
    "plt.title(\"3I/ATLAS 3D Space Velocity Over Time\")\n",
    "plt.show()\n"
   ]
  },
  {
   "cell_type": "code",
   "execution_count": null,
   "id": "dc598e30-50c0-46e0-8f43-3cf5605d8ee2",
   "metadata": {
    "scrolled": true
   },
   "outputs": [],
   "source": []
  },
  {
   "cell_type": "code",
   "execution_count": null,
   "id": "41c2e2d4-62be-4aa9-ab34-2d40c3540a70",
   "metadata": {},
   "outputs": [],
   "source": []
  }
 ],
 "metadata": {
  "kernelspec": {
   "display_name": "Python [conda env:base]",
   "language": "python",
   "name": "base"
  },
  "language_info": {
   "codemirror_mode": {
    "name": "ipython",
    "version": 3
   },
   "file_extension": ".py",
   "mimetype": "text/x-python",
   "name": "python",
   "nbconvert_exporter": "python",
   "pygments_lexer": "ipython3",
   "version": "3.13.5"
  }
 },
 "nbformat": 4,
 "nbformat_minor": 5
}
